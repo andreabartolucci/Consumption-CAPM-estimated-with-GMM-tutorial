{
 "cells": [
  {
   "cell_type": "code",
   "execution_count": 135,
   "id": "0214a6b7",
   "metadata": {
    "ExecuteTime": {
     "end_time": "2022-06-07T20:10:25.909559Z",
     "start_time": "2022-06-07T20:10:25.903608Z"
    }
   },
   "outputs": [],
   "source": [
    "from numpy import hstack, ones, array, mat, tile, reshape, squeeze, eye, asmatrix\n",
    "from numpy.linalg import inv\n",
    "from pandas import read_csv, Series \n",
    "from scipy.linalg import kron\n",
    "from scipy.optimize import fmin_bfgs\n",
    "from scipy.ndimage import shift\n",
    "import numpy as np\n",
    "import pandas as pd\n",
    "import statsmodels.api as sm\n",
    "import seaborn as sns\n"
   ]
  },
  {
   "cell_type": "code",
   "execution_count": 156,
   "id": "f1240545",
   "metadata": {
    "ExecuteTime": {
     "end_time": "2022-06-07T20:15:25.844878Z",
     "start_time": "2022-06-07T20:15:25.831912Z"
    }
   },
   "outputs": [
    {
     "data": {
      "text/html": [
       "<div>\n",
       "<style scoped>\n",
       "    .dataframe tbody tr th:only-of-type {\n",
       "        vertical-align: middle;\n",
       "    }\n",
       "\n",
       "    .dataframe tbody tr th {\n",
       "        vertical-align: top;\n",
       "    }\n",
       "\n",
       "    .dataframe thead th {\n",
       "        text-align: right;\n",
       "    }\n",
       "</style>\n",
       "<table border=\"1\" class=\"dataframe\">\n",
       "  <thead>\n",
       "    <tr style=\"text-align: right;\">\n",
       "      <th></th>\n",
       "      <th>Year</th>\n",
       "      <th>SPX real return</th>\n",
       "      <th>real rate</th>\n",
       "      <th>1+r</th>\n",
       "      <th>capita consumption</th>\n",
       "    </tr>\n",
       "  </thead>\n",
       "  <tbody>\n",
       "    <tr>\n",
       "      <th>0</th>\n",
       "      <td>1889</td>\n",
       "      <td>0.122137</td>\n",
       "      <td>0.099140</td>\n",
       "      <td>1.099140</td>\n",
       "      <td>2731.570142</td>\n",
       "    </tr>\n",
       "    <tr>\n",
       "      <th>1</th>\n",
       "      <td>1890</td>\n",
       "      <td>-0.082419</td>\n",
       "      <td>0.028390</td>\n",
       "      <td>1.028390</td>\n",
       "      <td>2674.739801</td>\n",
       "    </tr>\n",
       "    <tr>\n",
       "      <th>2</th>\n",
       "      <td>1891</td>\n",
       "      <td>0.260760</td>\n",
       "      <td>0.128512</td>\n",
       "      <td>1.128512</td>\n",
       "      <td>2802.827499</td>\n",
       "    </tr>\n",
       "    <tr>\n",
       "      <th>3</th>\n",
       "      <td>1892</td>\n",
       "      <td>-0.015044</td>\n",
       "      <td>-0.035831</td>\n",
       "      <td>0.964169</td>\n",
       "      <td>2877.010456</td>\n",
       "    </tr>\n",
       "    <tr>\n",
       "      <th>4</th>\n",
       "      <td>1893</td>\n",
       "      <td>-0.060927</td>\n",
       "      <td>0.250995</td>\n",
       "      <td>1.250995</td>\n",
       "      <td>2834.846162</td>\n",
       "    </tr>\n",
       "    <tr>\n",
       "      <th>...</th>\n",
       "      <td>...</td>\n",
       "      <td>...</td>\n",
       "      <td>...</td>\n",
       "      <td>...</td>\n",
       "      <td>...</td>\n",
       "    </tr>\n",
       "    <tr>\n",
       "      <th>116</th>\n",
       "      <td>2005</td>\n",
       "      <td>0.058980</td>\n",
       "      <td>-0.005533</td>\n",
       "      <td>0.994467</td>\n",
       "      <td>29790.295770</td>\n",
       "    </tr>\n",
       "    <tr>\n",
       "      <th>117</th>\n",
       "      <td>2006</td>\n",
       "      <td>0.110144</td>\n",
       "      <td>0.031784</td>\n",
       "      <td>1.031784</td>\n",
       "      <td>30364.433440</td>\n",
       "    </tr>\n",
       "    <tr>\n",
       "      <th>118</th>\n",
       "      <td>2007</td>\n",
       "      <td>-0.053393</td>\n",
       "      <td>0.009684</td>\n",
       "      <td>1.009684</td>\n",
       "      <td>30867.609870</td>\n",
       "    </tr>\n",
       "    <tr>\n",
       "      <th>119</th>\n",
       "      <td>2008</td>\n",
       "      <td>-0.351499</td>\n",
       "      <td>0.034381</td>\n",
       "      <td>1.034381</td>\n",
       "      <td>30509.081240</td>\n",
       "    </tr>\n",
       "    <tr>\n",
       "      <th>120</th>\n",
       "      <td>2009</td>\n",
       "      <td>0.290082</td>\n",
       "      <td>-0.015695</td>\n",
       "      <td>0.984305</td>\n",
       "      <td>29933.854680</td>\n",
       "    </tr>\n",
       "  </tbody>\n",
       "</table>\n",
       "<p>121 rows × 5 columns</p>\n",
       "</div>"
      ],
      "text/plain": [
       "     Year  SPX real return  real rate       1+r  capita consumption\n",
       "0    1889         0.122137   0.099140  1.099140         2731.570142\n",
       "1    1890        -0.082419   0.028390  1.028390         2674.739801\n",
       "2    1891         0.260760   0.128512  1.128512         2802.827499\n",
       "3    1892        -0.015044  -0.035831  0.964169         2877.010456\n",
       "4    1893        -0.060927   0.250995  1.250995         2834.846162\n",
       "..    ...              ...        ...       ...                 ...\n",
       "116  2005         0.058980  -0.005533  0.994467        29790.295770\n",
       "117  2006         0.110144   0.031784  1.031784        30364.433440\n",
       "118  2007        -0.053393   0.009684  1.009684        30867.609870\n",
       "119  2008        -0.351499   0.034381  1.034381        30509.081240\n",
       "120  2009         0.290082  -0.015695  0.984305        29933.854680\n",
       "\n",
       "[121 rows x 5 columns]"
      ]
     },
     "execution_count": 156,
     "metadata": {},
     "output_type": "execute_result"
    }
   ],
   "source": [
    "data =pd.read_csv(\"C:/Users/Eric/Documents/PhD/DATA CCAPM for GMM.csv\")\n",
    "data"
   ]
  },
  {
   "cell_type": "code",
   "execution_count": 157,
   "id": "6614c262",
   "metadata": {
    "ExecuteTime": {
     "end_time": "2022-06-07T20:15:28.305058Z",
     "start_time": "2022-06-07T20:15:28.288104Z"
    }
   },
   "outputs": [
    {
     "data": {
      "text/html": [
       "<div>\n",
       "<style scoped>\n",
       "    .dataframe tbody tr th:only-of-type {\n",
       "        vertical-align: middle;\n",
       "    }\n",
       "\n",
       "    .dataframe tbody tr th {\n",
       "        vertical-align: top;\n",
       "    }\n",
       "\n",
       "    .dataframe thead th {\n",
       "        text-align: right;\n",
       "    }\n",
       "</style>\n",
       "<table border=\"1\" class=\"dataframe\">\n",
       "  <thead>\n",
       "    <tr style=\"text-align: right;\">\n",
       "      <th></th>\n",
       "      <th>Year</th>\n",
       "      <th>rt</th>\n",
       "      <th>real rate</th>\n",
       "      <th>1+rf</th>\n",
       "      <th>ct</th>\n",
       "      <th>ct+1/ct</th>\n",
       "      <th>R0_t+1</th>\n",
       "      <th>R1_t+1</th>\n",
       "    </tr>\n",
       "  </thead>\n",
       "  <tbody>\n",
       "    <tr>\n",
       "      <th>0</th>\n",
       "      <td>1889</td>\n",
       "      <td>0.122137</td>\n",
       "      <td>0.099140</td>\n",
       "      <td>1.099140</td>\n",
       "      <td>2731.570142</td>\n",
       "      <td>NaN</td>\n",
       "      <td>1.099140</td>\n",
       "      <td>1.122137</td>\n",
       "    </tr>\n",
       "    <tr>\n",
       "      <th>1</th>\n",
       "      <td>1890</td>\n",
       "      <td>-0.082419</td>\n",
       "      <td>0.028390</td>\n",
       "      <td>1.028390</td>\n",
       "      <td>2674.739801</td>\n",
       "      <td>0.979195</td>\n",
       "      <td>1.028390</td>\n",
       "      <td>0.917581</td>\n",
       "    </tr>\n",
       "    <tr>\n",
       "      <th>2</th>\n",
       "      <td>1891</td>\n",
       "      <td>0.260760</td>\n",
       "      <td>0.128512</td>\n",
       "      <td>1.128512</td>\n",
       "      <td>2802.827499</td>\n",
       "      <td>1.047888</td>\n",
       "      <td>1.128512</td>\n",
       "      <td>1.260760</td>\n",
       "    </tr>\n",
       "    <tr>\n",
       "      <th>3</th>\n",
       "      <td>1892</td>\n",
       "      <td>-0.015044</td>\n",
       "      <td>-0.035831</td>\n",
       "      <td>0.964169</td>\n",
       "      <td>2877.010456</td>\n",
       "      <td>1.026467</td>\n",
       "      <td>0.964169</td>\n",
       "      <td>0.984956</td>\n",
       "    </tr>\n",
       "    <tr>\n",
       "      <th>4</th>\n",
       "      <td>1893</td>\n",
       "      <td>-0.060927</td>\n",
       "      <td>0.250995</td>\n",
       "      <td>1.250995</td>\n",
       "      <td>2834.846162</td>\n",
       "      <td>0.985344</td>\n",
       "      <td>1.250995</td>\n",
       "      <td>0.939073</td>\n",
       "    </tr>\n",
       "    <tr>\n",
       "      <th>...</th>\n",
       "      <td>...</td>\n",
       "      <td>...</td>\n",
       "      <td>...</td>\n",
       "      <td>...</td>\n",
       "      <td>...</td>\n",
       "      <td>...</td>\n",
       "      <td>...</td>\n",
       "      <td>...</td>\n",
       "    </tr>\n",
       "    <tr>\n",
       "      <th>116</th>\n",
       "      <td>2005</td>\n",
       "      <td>0.058980</td>\n",
       "      <td>-0.005533</td>\n",
       "      <td>0.994467</td>\n",
       "      <td>29790.295770</td>\n",
       "      <td>1.024169</td>\n",
       "      <td>0.994467</td>\n",
       "      <td>1.058980</td>\n",
       "    </tr>\n",
       "    <tr>\n",
       "      <th>117</th>\n",
       "      <td>2006</td>\n",
       "      <td>0.110144</td>\n",
       "      <td>0.031784</td>\n",
       "      <td>1.031784</td>\n",
       "      <td>30364.433440</td>\n",
       "      <td>1.019273</td>\n",
       "      <td>1.031784</td>\n",
       "      <td>1.110144</td>\n",
       "    </tr>\n",
       "    <tr>\n",
       "      <th>118</th>\n",
       "      <td>2007</td>\n",
       "      <td>-0.053393</td>\n",
       "      <td>0.009684</td>\n",
       "      <td>1.009684</td>\n",
       "      <td>30867.609870</td>\n",
       "      <td>1.016571</td>\n",
       "      <td>1.009684</td>\n",
       "      <td>0.946607</td>\n",
       "    </tr>\n",
       "    <tr>\n",
       "      <th>119</th>\n",
       "      <td>2008</td>\n",
       "      <td>-0.351499</td>\n",
       "      <td>0.034381</td>\n",
       "      <td>1.034381</td>\n",
       "      <td>30509.081240</td>\n",
       "      <td>0.988385</td>\n",
       "      <td>1.034381</td>\n",
       "      <td>0.648501</td>\n",
       "    </tr>\n",
       "    <tr>\n",
       "      <th>120</th>\n",
       "      <td>2009</td>\n",
       "      <td>0.290082</td>\n",
       "      <td>-0.015695</td>\n",
       "      <td>0.984305</td>\n",
       "      <td>29933.854680</td>\n",
       "      <td>0.981146</td>\n",
       "      <td>0.984305</td>\n",
       "      <td>1.290082</td>\n",
       "    </tr>\n",
       "  </tbody>\n",
       "</table>\n",
       "<p>121 rows × 8 columns</p>\n",
       "</div>"
      ],
      "text/plain": [
       "     Year        rt  real rate      1+rf            ct   ct+1/ct    R0_t+1  \\\n",
       "0    1889  0.122137   0.099140  1.099140   2731.570142       NaN  1.099140   \n",
       "1    1890 -0.082419   0.028390  1.028390   2674.739801  0.979195  1.028390   \n",
       "2    1891  0.260760   0.128512  1.128512   2802.827499  1.047888  1.128512   \n",
       "3    1892 -0.015044  -0.035831  0.964169   2877.010456  1.026467  0.964169   \n",
       "4    1893 -0.060927   0.250995  1.250995   2834.846162  0.985344  1.250995   \n",
       "..    ...       ...        ...       ...           ...       ...       ...   \n",
       "116  2005  0.058980  -0.005533  0.994467  29790.295770  1.024169  0.994467   \n",
       "117  2006  0.110144   0.031784  1.031784  30364.433440  1.019273  1.031784   \n",
       "118  2007 -0.053393   0.009684  1.009684  30867.609870  1.016571  1.009684   \n",
       "119  2008 -0.351499   0.034381  1.034381  30509.081240  0.988385  1.034381   \n",
       "120  2009  0.290082  -0.015695  0.984305  29933.854680  0.981146  0.984305   \n",
       "\n",
       "       R1_t+1  \n",
       "0    1.122137  \n",
       "1    0.917581  \n",
       "2    1.260760  \n",
       "3    0.984956  \n",
       "4    0.939073  \n",
       "..        ...  \n",
       "116  1.058980  \n",
       "117  1.110144  \n",
       "118  0.946607  \n",
       "119  0.648501  \n",
       "120  1.290082  \n",
       "\n",
       "[121 rows x 8 columns]"
      ]
     },
     "execution_count": 157,
     "metadata": {},
     "output_type": "execute_result"
    }
   ],
   "source": [
    "data=data.rename(columns={\"SPX real return\":\"rt\",\n",
    "                    \"capita consumption\":\"ct\",\n",
    "                    \"1+r\":\"1+rf\"}) \n",
    "data['ct+1/ct']=data['ct']/data['ct'].shift(1)\n",
    "data['R0_t+1']=(data['1+rf'])\n",
    "data['R1_t+1']=(data['rt']+1)\n",
    "data"
   ]
  },
  {
   "cell_type": "code",
   "execution_count": 158,
   "id": "02bbb3f8",
   "metadata": {
    "ExecuteTime": {
     "end_time": "2022-06-07T20:15:33.272338Z",
     "start_time": "2022-06-07T20:15:33.249396Z"
    }
   },
   "outputs": [
    {
     "data": {
      "text/html": [
       "<div>\n",
       "<style scoped>\n",
       "    .dataframe tbody tr th:only-of-type {\n",
       "        vertical-align: middle;\n",
       "    }\n",
       "\n",
       "    .dataframe tbody tr th {\n",
       "        vertical-align: top;\n",
       "    }\n",
       "\n",
       "    .dataframe thead th {\n",
       "        text-align: right;\n",
       "    }\n",
       "</style>\n",
       "<table border=\"1\" class=\"dataframe\">\n",
       "  <thead>\n",
       "    <tr style=\"text-align: right;\">\n",
       "      <th></th>\n",
       "      <th>ct+1/ct</th>\n",
       "      <th>R0_t+1</th>\n",
       "      <th>R1_t+1</th>\n",
       "    </tr>\n",
       "    <tr>\n",
       "      <th>Year</th>\n",
       "      <th></th>\n",
       "      <th></th>\n",
       "      <th></th>\n",
       "    </tr>\n",
       "  </thead>\n",
       "  <tbody>\n",
       "    <tr>\n",
       "      <th>1890</th>\n",
       "      <td>0.979195</td>\n",
       "      <td>1.028390</td>\n",
       "      <td>0.917581</td>\n",
       "    </tr>\n",
       "    <tr>\n",
       "      <th>1891</th>\n",
       "      <td>1.047888</td>\n",
       "      <td>1.128512</td>\n",
       "      <td>1.260760</td>\n",
       "    </tr>\n",
       "    <tr>\n",
       "      <th>1892</th>\n",
       "      <td>1.026467</td>\n",
       "      <td>0.964169</td>\n",
       "      <td>0.984956</td>\n",
       "    </tr>\n",
       "    <tr>\n",
       "      <th>1893</th>\n",
       "      <td>0.985344</td>\n",
       "      <td>1.250995</td>\n",
       "      <td>0.939073</td>\n",
       "    </tr>\n",
       "    <tr>\n",
       "      <th>1894</th>\n",
       "      <td>0.951977</td>\n",
       "      <td>1.078121</td>\n",
       "      <td>1.077294</td>\n",
       "    </tr>\n",
       "    <tr>\n",
       "      <th>...</th>\n",
       "      <td>...</td>\n",
       "      <td>...</td>\n",
       "      <td>...</td>\n",
       "    </tr>\n",
       "    <tr>\n",
       "      <th>2005</th>\n",
       "      <td>1.024169</td>\n",
       "      <td>0.994467</td>\n",
       "      <td>1.058980</td>\n",
       "    </tr>\n",
       "    <tr>\n",
       "      <th>2006</th>\n",
       "      <td>1.019273</td>\n",
       "      <td>1.031784</td>\n",
       "      <td>1.110144</td>\n",
       "    </tr>\n",
       "    <tr>\n",
       "      <th>2007</th>\n",
       "      <td>1.016571</td>\n",
       "      <td>1.009684</td>\n",
       "      <td>0.946607</td>\n",
       "    </tr>\n",
       "    <tr>\n",
       "      <th>2008</th>\n",
       "      <td>0.988385</td>\n",
       "      <td>1.034381</td>\n",
       "      <td>0.648501</td>\n",
       "    </tr>\n",
       "    <tr>\n",
       "      <th>2009</th>\n",
       "      <td>0.981146</td>\n",
       "      <td>0.984305</td>\n",
       "      <td>1.290082</td>\n",
       "    </tr>\n",
       "  </tbody>\n",
       "</table>\n",
       "<p>120 rows × 3 columns</p>\n",
       "</div>"
      ],
      "text/plain": [
       "       ct+1/ct    R0_t+1    R1_t+1\n",
       "Year                              \n",
       "1890  0.979195  1.028390  0.917581\n",
       "1891  1.047888  1.128512  1.260760\n",
       "1892  1.026467  0.964169  0.984956\n",
       "1893  0.985344  1.250995  0.939073\n",
       "1894  0.951977  1.078121  1.077294\n",
       "...        ...       ...       ...\n",
       "2005  1.024169  0.994467  1.058980\n",
       "2006  1.019273  1.031784  1.110144\n",
       "2007  1.016571  1.009684  0.946607\n",
       "2008  0.988385  1.034381  0.648501\n",
       "2009  0.981146  0.984305  1.290082\n",
       "\n",
       "[120 rows x 3 columns]"
      ]
     },
     "execution_count": 158,
     "metadata": {},
     "output_type": "execute_result"
    }
   ],
   "source": [
    "data.set_index(\"Year\", inplace=True)\n",
    "data=data.loc[:,data.columns[-3:]].dropna()\n",
    "data"
   ]
  },
  {
   "cell_type": "code",
   "execution_count": 159,
   "id": "c6c3e51c",
   "metadata": {
    "ExecuteTime": {
     "end_time": "2022-06-07T20:15:37.732743Z",
     "start_time": "2022-06-07T20:15:37.574234Z"
    }
   },
   "outputs": [
    {
     "data": {
      "text/plain": [
       "<AxesSubplot:xlabel='Year'>"
      ]
     },
     "execution_count": 159,
     "metadata": {},
     "output_type": "execute_result"
    },
    {
     "data": {
      "image/png": "[encoded data removed]",
      "text/plain": [
       "<Figure size 432x288 with 1 Axes>"
      ]
     },
     "metadata": {
      "needs_background": "light"
     },
     "output_type": "display_data"
    }
   ],
   "source": [
    "graph=data.rename(columns={\"ct+1/ct\":\"Consumption growth\",\n",
    "                    \"R0_t+1\":\"1+real government yield\",\n",
    "                    \"R1_t+1\":\"1+real annual return of S&P\"}) \n",
    "graph.plot()\n"
   ]
  },
  {
   "cell_type": "code",
   "execution_count": 160,
   "id": "bc0515dd",
   "metadata": {
    "ExecuteTime": {
     "end_time": "2022-06-07T20:15:47.414307Z",
     "start_time": "2022-06-07T20:15:47.410317Z"
    }
   },
   "outputs": [],
   "source": [
    "#Set the number of lags\n",
    "\n",
    "l=1\n",
    "N=data.shape[1] - 1  #Number of assets\n",
    "T=data.shape[0] \n",
    "params=np.array([1,0])"
   ]
  },
  {
   "cell_type": "code",
   "execution_count": 161,
   "id": "5d3c261c",
   "metadata": {
    "ExecuteTime": {
     "end_time": "2022-06-07T20:15:57.984027Z",
     "start_time": "2022-06-07T20:15:57.966030Z"
    }
   },
   "outputs": [],
   "source": [
    "#Define the moment conditions for every time t\n",
    "\n",
    "def h_t(t,params,l):\n",
    "    X=data.iloc[t].to_numpy()\n",
    "    delta=params[0]\n",
    "    alpha=params[1]\n",
    "    E1=delta*X[1]*X[0]**-alpha-1\n",
    "    E2=delta*X[2]*X[0]**-alpha-1\n",
    "    Epsilon=np.array([E1,E2])#.reshape(N,1)\n",
    "    \n",
    "    Z = np.ones(1)\n",
    "    for i in range(1, l+1):\n",
    "        Z = hstack ((Z, data.iloc[t-i].to_numpy() ))\n",
    "    \n",
    "    Z.reshape(1+l*(N+1),1)\n",
    "    h_t=np.kron(Z,Epsilon)\n",
    "    return h_t"
   ]
  },
  {
   "cell_type": "code",
   "execution_count": 162,
   "id": "771f8a15",
   "metadata": {
    "ExecuteTime": {
     "end_time": "2022-06-07T20:16:02.254849Z",
     "start_time": "2022-06-07T20:16:02.250819Z"
    }
   },
   "outputs": [],
   "source": [
    "#Group the time series of h_t into a big matrix\n",
    "\n",
    "def h_t_v2(params,l):\n",
    "    Z=h_t(0,params,l)\n",
    "    for i in range(1, T):\n",
    "        Z = np.vstack((Z,h_t(i,params,l)))\n",
    "    return Z"
   ]
  },
  {
   "cell_type": "code",
   "execution_count": 163,
   "id": "9918fceb",
   "metadata": {
    "ExecuteTime": {
     "end_time": "2022-06-07T20:16:04.987246Z",
     "start_time": "2022-06-07T20:16:04.980311Z"
    }
   },
   "outputs": [],
   "source": [
    "#Take the sample Time-mean of each monent condition\n",
    "\n",
    "def g_T_v2(params,l):\n",
    "    g_T=np.mean(h_t_v2(params,l),axis=0)\n",
    "    return g_T\n",
    "    \n",
    "        "
   ]
  },
  {
   "cell_type": "code",
   "execution_count": 164,
   "id": "cef1b941",
   "metadata": {
    "ExecuteTime": {
     "end_time": "2022-06-07T20:16:07.273410Z",
     "start_time": "2022-06-07T20:16:07.268425Z"
    }
   },
   "outputs": [],
   "source": [
    "#Define the 1st-step Objective Function\n",
    "\n",
    "def Q_1_v2(params):\n",
    "    delta=params[0]\n",
    "    alpha=params[1]\n",
    "    Wt=np.eye(len(g_T_v2(params,l)))\n",
    "    Q_1=g_T_v2(params,l).dot(Wt).dot(g_T_v2(params,l).T)\n",
    "    return Q_1"
   ]
  },
  {
   "cell_type": "code",
   "execution_count": 165,
   "id": "eeaafaeb",
   "metadata": {
    "ExecuteTime": {
     "end_time": "2022-06-07T20:17:19.503675Z",
     "start_time": "2022-06-07T20:16:09.536247Z"
    },
    "scrolled": true
   },
   "outputs": [
    {
     "name": "stdout",
     "output_type": "stream",
     "text": [
      "1\n",
      "Optimization terminated successfully.\n",
      "         Current function value: 0.006379\n",
      "         Iterations: 21\n",
      "         Function evaluations: 69\n",
      "         Gradient evaluations: 23\n",
      "delta=0.9979817677667883, alpha=2.3927139735734784\n",
      "2\n",
      "Optimization terminated successfully.\n",
      "         Current function value: 0.006379\n",
      "         Iterations: 20\n",
      "         Function evaluations: 69\n",
      "         Gradient evaluations: 23\n",
      "delta=0.9979849190456003, alpha=2.392867177597479\n",
      "3\n",
      "Optimization terminated successfully.\n",
      "         Current function value: 0.006379\n",
      "         Iterations: 20\n",
      "         Function evaluations: 69\n",
      "         Gradient evaluations: 23\n",
      "delta=0.9979844371914456, alpha=2.3928429305729084\n",
      "4\n",
      "Optimization terminated successfully.\n",
      "         Current function value: 0.006379\n",
      "         Iterations: 20\n",
      "         Function evaluations: 69\n",
      "         Gradient evaluations: 23\n",
      "delta=0.997984650458977, alpha=2.3928529735877078\n",
      "5\n",
      "Optimization terminated successfully.\n",
      "         Current function value: 0.006379\n",
      "         Iterations: 21\n",
      "         Function evaluations: 69\n",
      "         Gradient evaluations: 23\n",
      "delta=0.997972845368044, alpha=2.392203566527298\n",
      "6\n",
      "Optimization terminated successfully.\n",
      "         Current function value: 0.006379\n",
      "         Iterations: 21\n",
      "         Function evaluations: 69\n",
      "         Gradient evaluations: 23\n",
      "delta=0.9979826303556253, alpha=2.3927603610966166\n",
      "7\n",
      "Optimization terminated successfully.\n",
      "         Current function value: 0.006379\n",
      "         Iterations: 17\n",
      "         Function evaluations: 63\n",
      "         Gradient evaluations: 21\n",
      "delta=0.9979758843283414, alpha=2.392381476411108\n",
      "8\n",
      "Optimization terminated successfully.\n",
      "         Current function value: 0.006379\n",
      "         Iterations: 20\n",
      "         Function evaluations: 69\n",
      "         Gradient evaluations: 23\n",
      "delta=0.9979848375181355, alpha=2.392869833084886\n",
      "9\n",
      "Optimization terminated successfully.\n",
      "         Current function value: 0.006379\n",
      "         Iterations: 21\n",
      "         Function evaluations: 69\n",
      "         Gradient evaluations: 23\n",
      "delta=0.9979821967589605, alpha=2.3927344157383863\n",
      "10\n",
      "Optimization terminated successfully.\n",
      "         Current function value: 0.006379\n",
      "         Iterations: 20\n",
      "         Function evaluations: 69\n",
      "         Gradient evaluations: 23\n",
      "delta=0.997984497664008, alpha=2.3928447501291696\n",
      "11\n",
      "Optimization terminated successfully.\n",
      "         Current function value: 0.006379\n",
      "         Iterations: 12\n",
      "         Function evaluations: 54\n",
      "         Gradient evaluations: 18\n",
      "delta=0.9979847567773522, alpha=2.392863917507985\n",
      "12\n",
      "Optimization terminated successfully.\n",
      "         Current function value: 0.006379\n",
      "         Iterations: 19\n",
      "         Function evaluations: 66\n",
      "         Gradient evaluations: 22\n",
      "delta=0.9979741033619207, alpha=2.3922806632300397\n",
      "13\n",
      "Optimization terminated successfully.\n",
      "         Current function value: 0.006379\n",
      "         Iterations: 11\n",
      "         Function evaluations: 51\n",
      "         Gradient evaluations: 17\n",
      "delta=0.9979733804855266, alpha=2.392232466722112\n",
      "14\n",
      "Optimization terminated successfully.\n",
      "         Current function value: 0.006379\n",
      "         Iterations: 20\n",
      "         Function evaluations: 69\n",
      "         Gradient evaluations: 23\n",
      "delta=0.9979840950558173, alpha=2.392825067762247\n",
      "15\n",
      "Optimization terminated successfully.\n",
      "         Current function value: 0.006379\n",
      "         Iterations: 17\n",
      "         Function evaluations: 63\n",
      "         Gradient evaluations: 21\n",
      "delta=0.9979761162303805, alpha=2.392392824804013\n",
      "16\n",
      "Optimization terminated successfully.\n",
      "         Current function value: 0.006379\n",
      "         Iterations: 19\n",
      "         Function evaluations: 66\n",
      "         Gradient evaluations: 22\n",
      "delta=0.997975131040316, alpha=2.3922799786134346\n",
      "17\n",
      "Optimization terminated successfully.\n",
      "         Current function value: 0.006379\n",
      "         Iterations: 12\n",
      "         Function evaluations: 54\n",
      "         Gradient evaluations: 18\n",
      "delta=0.9979847057348222, alpha=2.392857852956578\n",
      "18\n",
      "Optimization terminated successfully.\n",
      "         Current function value: 0.006379\n",
      "         Iterations: 13\n",
      "         Function evaluations: 57\n",
      "         Gradient evaluations: 19\n",
      "delta=0.9979835854004209, alpha=2.3928077881361713\n",
      "19\n",
      "Optimization terminated successfully.\n",
      "         Current function value: 0.006379\n",
      "         Iterations: 12\n",
      "         Function evaluations: 54\n",
      "         Gradient evaluations: 18\n",
      "delta=0.997985034354277, alpha=2.392874522051513\n",
      "20\n",
      "Optimization terminated successfully.\n",
      "         Current function value: 0.006379\n",
      "         Iterations: 20\n",
      "         Function evaluations: 69\n",
      "         Gradient evaluations: 23\n",
      "delta=0.9979846940174182, alpha=2.3928631270882734\n"
     ]
    }
   ],
   "source": [
    "#Minimise the Objective Function\n",
    "\n",
    "# generate random integer values\n",
    "from numpy.random import seed\n",
    "# seed random number generator\n",
    "seed(1)\n",
    "\n",
    "# generate random parameters\n",
    "dim=20\n",
    "delta_floor=0.5\n",
    "delta_cap=1.5\n",
    "alpha_floor=0\n",
    "alpha_cap=1\n",
    "params_random=np.random.uniform([delta_floor,alpha_floor], [delta_cap,alpha_cap], [dim,2])\n",
    "\n",
    "optimization_results=[]\n",
    "n=1\n",
    "for i in params_random:\n",
    "    print(n)\n",
    "    params=np.array([i[0], i[1]])\n",
    "    startingVals=params\n",
    "    step1opt = fmin_bfgs(Q_1_v2, x0=startingVals, full_output=True, maxiter=1000)\n",
    "#     print(step1opt)\n",
    "    optimization_results.append(pd.Series([step1opt[0][0], step1opt[0][1], step1opt[1]]))\n",
    "    n+=1\n",
    "    print(\"delta={}, alpha={}\".format(step1opt[0][0], step1opt[0][1]))"
   ]
  },
  {
   "cell_type": "code",
   "execution_count": 166,
   "id": "985d93e4",
   "metadata": {
    "ExecuteTime": {
     "end_time": "2022-06-07T20:17:19.572491Z",
     "start_time": "2022-06-07T20:17:19.559527Z"
    },
    "scrolled": true
   },
   "outputs": [
    {
     "data": {
      "text/html": [
       "<div>\n",
       "<style scoped>\n",
       "    .dataframe tbody tr th:only-of-type {\n",
       "        vertical-align: middle;\n",
       "    }\n",
       "\n",
       "    .dataframe tbody tr th {\n",
       "        vertical-align: top;\n",
       "    }\n",
       "\n",
       "    .dataframe thead th {\n",
       "        text-align: right;\n",
       "    }\n",
       "</style>\n",
       "<table border=\"1\" class=\"dataframe\">\n",
       "  <thead>\n",
       "    <tr style=\"text-align: right;\">\n",
       "      <th></th>\n",
       "      <th>delta</th>\n",
       "      <th>alpha</th>\n",
       "      <th>objective_func</th>\n",
       "    </tr>\n",
       "  </thead>\n",
       "  <tbody>\n",
       "    <tr>\n",
       "      <th>18</th>\n",
       "      <td>0.997985</td>\n",
       "      <td>2.392875</td>\n",
       "      <td>0.006379</td>\n",
       "    </tr>\n",
       "    <tr>\n",
       "      <th>1</th>\n",
       "      <td>0.997985</td>\n",
       "      <td>2.392867</td>\n",
       "      <td>0.006379</td>\n",
       "    </tr>\n",
       "    <tr>\n",
       "      <th>16</th>\n",
       "      <td>0.997985</td>\n",
       "      <td>2.392858</td>\n",
       "      <td>0.006379</td>\n",
       "    </tr>\n",
       "    <tr>\n",
       "      <th>10</th>\n",
       "      <td>0.997985</td>\n",
       "      <td>2.392864</td>\n",
       "      <td>0.006379</td>\n",
       "    </tr>\n",
       "    <tr>\n",
       "      <th>3</th>\n",
       "      <td>0.997985</td>\n",
       "      <td>2.392853</td>\n",
       "      <td>0.006379</td>\n",
       "    </tr>\n",
       "    <tr>\n",
       "      <th>7</th>\n",
       "      <td>0.997985</td>\n",
       "      <td>2.392870</td>\n",
       "      <td>0.006379</td>\n",
       "    </tr>\n",
       "    <tr>\n",
       "      <th>9</th>\n",
       "      <td>0.997984</td>\n",
       "      <td>2.392845</td>\n",
       "      <td>0.006379</td>\n",
       "    </tr>\n",
       "    <tr>\n",
       "      <th>2</th>\n",
       "      <td>0.997984</td>\n",
       "      <td>2.392843</td>\n",
       "      <td>0.006379</td>\n",
       "    </tr>\n",
       "    <tr>\n",
       "      <th>19</th>\n",
       "      <td>0.997985</td>\n",
       "      <td>2.392863</td>\n",
       "      <td>0.006379</td>\n",
       "    </tr>\n",
       "    <tr>\n",
       "      <th>13</th>\n",
       "      <td>0.997984</td>\n",
       "      <td>2.392825</td>\n",
       "      <td>0.006379</td>\n",
       "    </tr>\n",
       "    <tr>\n",
       "      <th>17</th>\n",
       "      <td>0.997984</td>\n",
       "      <td>2.392808</td>\n",
       "      <td>0.006379</td>\n",
       "    </tr>\n",
       "    <tr>\n",
       "      <th>5</th>\n",
       "      <td>0.997983</td>\n",
       "      <td>2.392760</td>\n",
       "      <td>0.006379</td>\n",
       "    </tr>\n",
       "    <tr>\n",
       "      <th>8</th>\n",
       "      <td>0.997982</td>\n",
       "      <td>2.392734</td>\n",
       "      <td>0.006379</td>\n",
       "    </tr>\n",
       "    <tr>\n",
       "      <th>0</th>\n",
       "      <td>0.997982</td>\n",
       "      <td>2.392714</td>\n",
       "      <td>0.006379</td>\n",
       "    </tr>\n",
       "    <tr>\n",
       "      <th>14</th>\n",
       "      <td>0.997976</td>\n",
       "      <td>2.392393</td>\n",
       "      <td>0.006379</td>\n",
       "    </tr>\n",
       "    <tr>\n",
       "      <th>6</th>\n",
       "      <td>0.997976</td>\n",
       "      <td>2.392381</td>\n",
       "      <td>0.006379</td>\n",
       "    </tr>\n",
       "    <tr>\n",
       "      <th>11</th>\n",
       "      <td>0.997974</td>\n",
       "      <td>2.392281</td>\n",
       "      <td>0.006379</td>\n",
       "    </tr>\n",
       "    <tr>\n",
       "      <th>12</th>\n",
       "      <td>0.997973</td>\n",
       "      <td>2.392232</td>\n",
       "      <td>0.006379</td>\n",
       "    </tr>\n",
       "    <tr>\n",
       "      <th>15</th>\n",
       "      <td>0.997975</td>\n",
       "      <td>2.392280</td>\n",
       "      <td>0.006379</td>\n",
       "    </tr>\n",
       "    <tr>\n",
       "      <th>4</th>\n",
       "      <td>0.997973</td>\n",
       "      <td>2.392204</td>\n",
       "      <td>0.006379</td>\n",
       "    </tr>\n",
       "  </tbody>\n",
       "</table>\n",
       "</div>"
      ],
      "text/plain": [
       "       delta     alpha  objective_func\n",
       "18  0.997985  2.392875        0.006379\n",
       "1   0.997985  2.392867        0.006379\n",
       "16  0.997985  2.392858        0.006379\n",
       "10  0.997985  2.392864        0.006379\n",
       "3   0.997985  2.392853        0.006379\n",
       "7   0.997985  2.392870        0.006379\n",
       "9   0.997984  2.392845        0.006379\n",
       "2   0.997984  2.392843        0.006379\n",
       "19  0.997985  2.392863        0.006379\n",
       "13  0.997984  2.392825        0.006379\n",
       "17  0.997984  2.392808        0.006379\n",
       "5   0.997983  2.392760        0.006379\n",
       "8   0.997982  2.392734        0.006379\n",
       "0   0.997982  2.392714        0.006379\n",
       "14  0.997976  2.392393        0.006379\n",
       "6   0.997976  2.392381        0.006379\n",
       "11  0.997974  2.392281        0.006379\n",
       "12  0.997973  2.392232        0.006379\n",
       "15  0.997975  2.392280        0.006379\n",
       "4   0.997973  2.392204        0.006379"
      ]
     },
     "execution_count": 166,
     "metadata": {},
     "output_type": "execute_result"
    }
   ],
   "source": [
    "optimization_results=pd.concat(optimization_results, axis=1).T.rename(columns={0:\"delta\", 1:\"alpha\", 2:\"objective_func\"}).sort_values(by=\"objective_func\", ascending=True)\n",
    "\n",
    "optimization_results.sort_values(by=\"objective_func\", ascending=True)"
   ]
  },
  {
   "cell_type": "code",
   "execution_count": 88,
   "id": "18f49597",
   "metadata": {
    "ExecuteTime": {
     "end_time": "2022-06-07T18:05:16.063936Z",
     "start_time": "2022-06-07T18:05:15.832482Z"
    }
   },
   "outputs": [
    {
     "data": {
      "text/plain": [
       "<AxesSubplot:xlabel='delta', ylabel='alpha'>"
      ]
     },
     "execution_count": 88,
     "metadata": {},
     "output_type": "execute_result"
    },
    {
     "data": {
      "image/png": "[encoded data removed]",
      "text/plain": [
       "<Figure size 432x288 with 1 Axes>"
      ]
     },
     "metadata": {
      "needs_background": "light"
     },
     "output_type": "display_data"
    }
   ],
   "source": [
    "sns.scatterplot(data=optimization_results, x=\"delta\", y=\"alpha\", hue=\"objective_func\")"
   ]
  },
  {
   "cell_type": "code",
   "execution_count": 167,
   "id": "5fa5e758",
   "metadata": {
    "ExecuteTime": {
     "end_time": "2022-06-07T20:17:25.393983Z",
     "start_time": "2022-06-07T20:17:25.378084Z"
    }
   },
   "outputs": [
    {
     "data": {
      "text/plain": [
       "array([0.99798503, 2.39287452])"
      ]
     },
     "execution_count": 167,
     "metadata": {},
     "output_type": "execute_result"
    }
   ],
   "source": [
    "#Display the 1st-step estimated parameters\n",
    "\n",
    "Theta_hat_1=np.array(optimization_results.iloc[0,[0,1]])\n",
    "Theta_hat_1\n"
   ]
  },
  {
   "cell_type": "code",
   "execution_count": 100,
   "id": "e3ed432f",
   "metadata": {
    "ExecuteTime": {
     "end_time": "2022-06-07T03:02:59.128137Z",
     "start_time": "2022-06-07T03:02:59.111639Z"
    }
   },
   "outputs": [],
   "source": [
    "## Newey West Matrix"
   ]
  },
  {
   "cell_type": "code",
   "execution_count": 168,
   "id": "c8b39999",
   "metadata": {
    "ExecuteTime": {
     "end_time": "2022-06-07T20:17:28.135595Z",
     "start_time": "2022-06-07T20:17:28.051823Z"
    }
   },
   "outputs": [
    {
     "data": {
      "text/plain": [
       "array([[0.01318132, 0.00849196, 0.01326625, 0.0085851 , 0.01373514,\n",
       "        0.00891591, 0.01382214, 0.00900875],\n",
       "       [0.00849196, 0.04120813, 0.0085851 , 0.04175845, 0.00891591,\n",
       "        0.04271553, 0.00900875, 0.04227259],\n",
       "       [0.01326625, 0.0085851 , 0.01337598, 0.00869491, 0.01380368,\n",
       "        0.00899919, 0.0139446 , 0.00912753],\n",
       "       [0.0085851 , 0.04175845, 0.00869491, 0.04240398, 0.00899919,\n",
       "        0.04321391, 0.00912753, 0.04291462],\n",
       "       [0.01373514, 0.00891591, 0.01380368, 0.00899919, 0.01437802,\n",
       "        0.00940397, 0.01429027, 0.00937717],\n",
       "       [0.00891591, 0.04271553, 0.00899919, 0.04321391, 0.00940397,\n",
       "        0.04443901, 0.00937717, 0.04375277],\n",
       "       [0.01382214, 0.00900875, 0.0139446 , 0.00912753, 0.01429027,\n",
       "        0.00937717, 0.01531885, 0.01014053],\n",
       "       [0.00900875, 0.04227259, 0.00912753, 0.04291462, 0.00937717,\n",
       "        0.04375277, 0.01014053, 0.04513417]])"
      ]
     },
     "execution_count": 168,
     "metadata": {},
     "output_type": "execute_result"
    }
   ],
   "source": [
    "#Gamma_0,T\n",
    "\n",
    "x = reshape(h_t(0,Theta_hat_1,l),(N+N*(N+1)*l,1)).dot(reshape(h_t(0,Theta_hat_1,l),(1,N+N*(N+1)*l)))\n",
    "for i in range(1,T):\n",
    "    x = np.add(x,reshape(h_t(i,Theta_hat_1,l),(N+N*(N+1)*l,1)).dot(reshape(h_t(i,Theta_hat_1,l),(1,N+N*(N+1)*l))))\n",
    "x=x\n",
    "Gamma_0=x/T\n",
    "Gamma_0"
   ]
  },
  {
   "cell_type": "code",
   "execution_count": 169,
   "id": "c91173b6",
   "metadata": {
    "ExecuteTime": {
     "end_time": "2022-06-07T20:17:30.493209Z",
     "start_time": "2022-06-07T20:17:30.440311Z"
    }
   },
   "outputs": [
    {
     "data": {
      "text/plain": [
       "array([[ 0.0022762 , -0.01079768,  0.0023049 , -0.01084298,  0.00222436,\n",
       "        -0.01135965,  0.00224226, -0.01080539],\n",
       "       [ 0.00325945, -0.00598219,  0.00324947, -0.00589873,  0.00344854,\n",
       "        -0.00611279,  0.00265642, -0.00665969],\n",
       "       [ 0.00228202, -0.0107088 ,  0.00231746, -0.01075827,  0.00222517,\n",
       "        -0.01125449,  0.00226672, -0.01075379],\n",
       "       [ 0.00311432, -0.00601891,  0.0031224 , -0.00593071,  0.00327606,\n",
       "        -0.00614839,  0.00260531, -0.00669733],\n",
       "       [ 0.00256827, -0.01127536,  0.00259059, -0.01132527,  0.00253394,\n",
       "        -0.01186115,  0.00249906, -0.01128188],\n",
       "       [ 0.0037877 , -0.00602967,  0.00376416, -0.00595183,  0.00402499,\n",
       "        -0.006136  ,  0.00305178, -0.00677643],\n",
       "       [ 0.00165899, -0.0130722 ,  0.00170968, -0.01314962,  0.00153524,\n",
       "        -0.01370004,  0.00175846, -0.01310369],\n",
       "       [ 0.00300105, -0.00537197,  0.00301665, -0.00516555,  0.00314875,\n",
       "        -0.005575  ,  0.00255759, -0.00617746]])"
      ]
     },
     "execution_count": 169,
     "metadata": {},
     "output_type": "execute_result"
    }
   ],
   "source": [
    "#Gamma_1,T\n",
    "\n",
    "x = reshape(h_t(1,Theta_hat_1,l),(N+N*(N+1)*l,1)).dot(reshape(h_t(0,Theta_hat_1,l),(1,N+N*(N+1)*l)))\n",
    "for i in range(1,T-1):\n",
    "    x = np.add(x,reshape(h_t(i+1,Theta_hat_1,l),(N+N*(N+1)*l,1)).dot(reshape(h_t(i,Theta_hat_1,l),(1,N+N*(N+1)*l))))\n",
    "x=x\n",
    "Gamma_1=x/T\n",
    "Gamma_1"
   ]
  },
  {
   "cell_type": "code",
   "execution_count": 170,
   "id": "a730bd3d",
   "metadata": {
    "ExecuteTime": {
     "end_time": "2022-06-07T20:17:32.510421Z",
     "start_time": "2022-06-07T20:17:32.445361Z"
    }
   },
   "outputs": [
    {
     "data": {
      "text/plain": [
       "array([[ 1.83867268e-03,  8.27065354e-04,  1.83917361e-03,\n",
       "         9.15492700e-04,  1.94138754e-03,  7.19717913e-04,\n",
       "         2.21103229e-03,  1.48185350e-03],\n",
       "       [-1.29358272e-04, -3.81902269e-03, -2.28140242e-04,\n",
       "        -3.93168873e-03,  2.56621551e-05, -3.83840738e-03,\n",
       "        -3.94765056e-04, -2.87489072e-03],\n",
       "       [ 1.91232922e-03,  8.37368602e-04,  1.91310194e-03,\n",
       "         9.22499719e-04,  2.02112839e-03,  7.39687667e-04,\n",
       "         2.28847267e-03,  1.51495427e-03],\n",
       "       [-1.19659751e-04, -3.67172667e-03, -2.07634654e-04,\n",
       "        -3.80481773e-03,  2.77113969e-05, -3.64795311e-03,\n",
       "        -3.83229188e-04, -2.73530787e-03],\n",
       "       [ 1.86774351e-03,  7.05182724e-04,  1.86694667e-03,\n",
       "         7.85379509e-04,  1.98114067e-03,  5.89217371e-04,\n",
       "         2.20601902e-03,  1.37198639e-03],\n",
       "       [ 1.12340716e-05, -4.14390383e-03, -9.85552073e-05,\n",
       "        -4.24621924e-03,  1.90241525e-04, -4.19445123e-03,\n",
       "        -3.11741742e-04, -3.15365993e-03],\n",
       "       [ 1.48393714e-03,  8.42582397e-04,  1.47487367e-03,\n",
       "         9.30666641e-04,  1.53074713e-03,  7.15653691e-04,\n",
       "         2.14865033e-03,  1.65688383e-03],\n",
       "       [-5.68242769e-04, -4.51693706e-03, -6.31320167e-04,\n",
       "        -4.60583758e-03, -4.86681483e-04, -4.60663114e-03,\n",
       "        -5.89557314e-04, -3.46021020e-03]])"
      ]
     },
     "execution_count": 170,
     "metadata": {},
     "output_type": "execute_result"
    }
   ],
   "source": [
    "#Gamma_2,T\n",
    "\n",
    "x = reshape(h_t(2,Theta_hat_1,l),(N+N*(N+1)*l,1)).dot(reshape(h_t(0,Theta_hat_1,l),(1,N+N*(N+1)*l)))\n",
    "for i in range(1,T-2):\n",
    "    x = np.add(x,reshape(h_t(i+2,Theta_hat_1,l),(N+N*(N+1)*l,1)).dot(reshape(h_t(i,Theta_hat_1,l),(1,N+N*(N+1)*l))))\n",
    "x=x\n",
    "Gamma_2=x/T\n",
    "Gamma_2"
   ]
  },
  {
   "cell_type": "code",
   "execution_count": 171,
   "id": "b0391fa4",
   "metadata": {
    "ExecuteTime": {
     "end_time": "2022-06-07T20:17:34.413584Z",
     "start_time": "2022-06-07T20:17:34.350751Z"
    }
   },
   "outputs": [
    {
     "data": {
      "text/plain": [
       "array([[ 0.00067702,  0.00062723,  0.00075127,  0.00081104,  0.00049782,\n",
       "         0.00055762,  0.00147118,  0.00133736],\n",
       "       [-0.00065714,  0.00445507, -0.00069262,  0.00449247, -0.00048429,\n",
       "         0.00465606, -0.00107031,  0.00468158],\n",
       "       [ 0.00066602,  0.000513  ,  0.00074075,  0.00070567,  0.00047828,\n",
       "         0.00043491,  0.00147533,  0.00123163],\n",
       "       [-0.00077183,  0.00468521, -0.00081789,  0.0047288 , -0.00060327,\n",
       "         0.00489519, -0.00118525,  0.00497558],\n",
       "       [ 0.00065608,  0.00080093,  0.00073174,  0.00098735,  0.00047653,\n",
       "         0.00073245,  0.00143557,  0.0015146 ],\n",
       "       [-0.00052946,  0.00448975, -0.00055327,  0.00453293, -0.00033749,\n",
       "         0.00468844, -0.00096827,  0.00467728],\n",
       "       [ 0.00096421,  0.00047344,  0.00105303,  0.00069097,  0.00076555,\n",
       "         0.00037232,  0.00186924,  0.00119415],\n",
       "       [-0.00036611,  0.00601856, -0.00038358,  0.00606446, -0.00021956,\n",
       "         0.00634375, -0.00048088,  0.00660698]])"
      ]
     },
     "execution_count": 171,
     "metadata": {},
     "output_type": "execute_result"
    }
   ],
   "source": [
    "#Gamma_3,T\n",
    "\n",
    "x = reshape(h_t(3,Theta_hat_1,l),(N+N*(N+1)*l,1)).dot(reshape(h_t(0,Theta_hat_1,l),(1,N+N*(N+1)*l)))\n",
    "for i in range(1,T-3):\n",
    "    x = np.add(x,reshape(h_t(i+3,Theta_hat_1,l),(N+N*(N+1)*l,1)).dot(reshape(h_t(i,Theta_hat_1,l),(1,N+N*(N+1)*l))))\n",
    "x=x\n",
    "Gamma_3=x/T\n",
    "Gamma_3"
   ]
  },
  {
   "cell_type": "code",
   "execution_count": 172,
   "id": "d6098116",
   "metadata": {
    "ExecuteTime": {
     "end_time": "2022-06-07T20:17:36.458149Z",
     "start_time": "2022-06-07T20:17:36.449173Z"
    }
   },
   "outputs": [
    {
     "data": {
      "text/plain": [
       "array([[0.0187728 , 0.00317966, 0.01893651, 0.00319633, 0.01952265,\n",
       "        0.00360946, 0.01920441, 0.00385512],\n",
       "       [0.00317966, 0.03064336, 0.00325031, 0.03131293, 0.00349038,\n",
       "        0.03190398, 0.00127161, 0.03222796],\n",
       "       [0.01893651, 0.00325031, 0.01913564, 0.00329738, 0.01966204,\n",
       "        0.00367241, 0.01944066, 0.0039785 ],\n",
       "       [0.00319633, 0.03131293, 0.00329738, 0.0320675 , 0.00346484,\n",
       "        0.03254869, 0.00136944, 0.0331069 ],\n",
       "       [0.01952265, 0.00349038, 0.01966204, 0.00346484, 0.02039834,\n",
       "        0.00401533, 0.01973466, 0.00404374],\n",
       "       [0.00360946, 0.03190398, 0.00367241, 0.03254869, 0.00401533,\n",
       "        0.03338478, 0.00144394, 0.03336431],\n",
       "       [0.01920441, 0.00127161, 0.01944066, 0.00136944, 0.01973466,\n",
       "        0.00144394, 0.02103982, 0.00294293],\n",
       "       [0.00385512, 0.03222796, 0.0039785 , 0.0331069 , 0.00404374,\n",
       "        0.03336431, 0.00294293, 0.03571125]])"
      ]
     },
     "execution_count": 172,
     "metadata": {},
     "output_type": "execute_result"
    }
   ],
   "source": [
    "NW=Gamma_0+0.75*(Gamma_1+Gamma_1.T)+0.50*(Gamma_2+Gamma_2.T)+0.25*(Gamma_3+Gamma_3.T)\n",
    "NW"
   ]
  },
  {
   "cell_type": "code",
   "execution_count": 173,
   "id": "da621a3a",
   "metadata": {
    "ExecuteTime": {
     "end_time": "2022-06-07T20:17:47.751306Z",
     "start_time": "2022-06-07T20:17:47.742325Z"
    }
   },
   "outputs": [],
   "source": [
    "#Define the 2nd-step Objective Function, with Newey West weighting matrix\n",
    "\n",
    "def Q_2_v2(params):\n",
    "    delta=params[0]\n",
    "    alpha=params[1]\n",
    "    Q_2=g_T_v2(params,l).dot(np.linalg.inv(NW)).dot(g_T_v2(params,l).T)\n",
    "    return Q_2"
   ]
  },
  {
   "cell_type": "code",
   "execution_count": 174,
   "id": "c1092b9f",
   "metadata": {
    "ExecuteTime": {
     "end_time": "2022-06-07T20:18:17.722487Z",
     "start_time": "2022-06-07T20:17:51.488780Z"
    }
   },
   "outputs": [
    {
     "name": "stdout",
     "output_type": "stream",
     "text": [
      "1\n",
      "Optimization terminated successfully.\n",
      "         Current function value: 0.094219\n",
      "         Iterations: 7\n",
      "         Function evaluations: 33\n",
      "         Gradient evaluations: 11\n",
      "delta=0.9834583722193152, alpha=0.9749529536088583\n",
      "2\n",
      "Optimization terminated successfully.\n",
      "         Current function value: 0.094219\n",
      "         Iterations: 6\n",
      "         Function evaluations: 27\n",
      "         Gradient evaluations: 9\n",
      "delta=0.9834583971159615, alpha=0.9749527174893122\n",
      "3\n",
      "Optimization terminated successfully.\n",
      "         Current function value: 0.094219\n",
      "         Iterations: 7\n",
      "         Function evaluations: 30\n",
      "         Gradient evaluations: 10\n",
      "delta=0.9834586803121885, alpha=0.9749686062932709\n",
      "4\n",
      "Optimization terminated successfully.\n",
      "         Current function value: 0.094219\n",
      "         Iterations: 6\n",
      "         Function evaluations: 27\n",
      "         Gradient evaluations: 9\n",
      "delta=0.9834586241716919, alpha=0.9749634060406517\n",
      "5\n",
      "Optimization terminated successfully.\n",
      "         Current function value: 0.094219\n",
      "         Iterations: 6\n",
      "         Function evaluations: 27\n",
      "         Gradient evaluations: 9\n",
      "delta=0.983458498001088, alpha=0.9749582073868355\n",
      "6\n",
      "Optimization terminated successfully.\n",
      "         Current function value: 0.094219\n",
      "         Iterations: 6\n",
      "         Function evaluations: 27\n",
      "         Gradient evaluations: 9\n",
      "delta=0.9834582410377946, alpha=0.9749453647354792\n",
      "7\n",
      "Warning: Desired error not necessarily achieved due to precision loss.\n",
      "         Current function value: 0.094219\n",
      "         Iterations: 7\n",
      "         Function evaluations: 139\n",
      "         Gradient evaluations: 43\n",
      "delta=0.9834590347432844, alpha=0.9749816238020195\n",
      "8\n",
      "Optimization terminated successfully.\n",
      "         Current function value: 0.094219\n",
      "         Iterations: 6\n",
      "         Function evaluations: 27\n",
      "         Gradient evaluations: 9\n",
      "delta=0.9834584189949719, alpha=0.9749543929893567\n",
      "9\n",
      "Optimization terminated successfully.\n",
      "         Current function value: 0.094219\n",
      "         Iterations: 6\n",
      "         Function evaluations: 27\n",
      "         Gradient evaluations: 9\n",
      "delta=0.9834588502322434, alpha=0.974976190021076\n",
      "10\n",
      "Optimization terminated successfully.\n",
      "         Current function value: 0.094219\n",
      "         Iterations: 7\n",
      "         Function evaluations: 30\n",
      "         Gradient evaluations: 10\n",
      "delta=0.9834584988179522, alpha=0.974958121906885\n",
      "11\n",
      "Optimization terminated successfully.\n",
      "         Current function value: 0.094219\n",
      "         Iterations: 11\n",
      "         Function evaluations: 54\n",
      "         Gradient evaluations: 18\n",
      "delta=0.9834579945972777, alpha=0.9749324796668413\n",
      "12\n",
      "Optimization terminated successfully.\n",
      "         Current function value: 0.094219\n",
      "         Iterations: 6\n",
      "         Function evaluations: 27\n",
      "         Gradient evaluations: 9\n",
      "delta=0.9834577656809252, alpha=0.974921937556333\n",
      "13\n",
      "Optimization terminated successfully.\n",
      "         Current function value: 0.094219\n",
      "         Iterations: 8\n",
      "         Function evaluations: 42\n",
      "         Gradient evaluations: 14\n",
      "delta=0.9834584183813678, alpha=0.9749555501041137\n",
      "14\n",
      "Optimization terminated successfully.\n",
      "         Current function value: 0.094219\n",
      "         Iterations: 7\n",
      "         Function evaluations: 30\n",
      "         Gradient evaluations: 10\n",
      "delta=0.9834586870953539, alpha=0.9749675805683645\n",
      "15\n",
      "Optimization terminated successfully.\n",
      "         Current function value: 0.094219\n",
      "         Iterations: 7\n",
      "         Function evaluations: 30\n",
      "         Gradient evaluations: 10\n",
      "delta=0.9834584469057184, alpha=0.9749570007691658\n",
      "16\n",
      "Optimization terminated successfully.\n",
      "         Current function value: 0.094219\n",
      "         Iterations: 7\n",
      "         Function evaluations: 30\n",
      "         Gradient evaluations: 10\n",
      "delta=0.9834585274307494, alpha=0.9749612754786372\n",
      "17\n",
      "Optimization terminated successfully.\n",
      "         Current function value: 0.094219\n",
      "         Iterations: 7\n",
      "         Function evaluations: 30\n",
      "         Gradient evaluations: 10\n",
      "delta=0.9834586061460738, alpha=0.974963665954606\n",
      "18\n",
      "Optimization terminated successfully.\n",
      "         Current function value: 0.094219\n",
      "         Iterations: 6\n",
      "         Function evaluations: 27\n",
      "         Gradient evaluations: 9\n",
      "delta=0.9834590592546204, alpha=0.9749854062177281\n",
      "19\n",
      "Optimization terminated successfully.\n",
      "         Current function value: 0.094219\n",
      "         Iterations: 6\n",
      "         Function evaluations: 27\n",
      "         Gradient evaluations: 9\n",
      "delta=0.9834585800202965, alpha=0.9749629879893257\n",
      "20\n",
      "Optimization terminated successfully.\n",
      "         Current function value: 0.094219\n",
      "         Iterations: 6\n",
      "         Function evaluations: 27\n",
      "         Gradient evaluations: 9\n",
      "delta=0.9834585823352295, alpha=0.9749614522699915\n"
     ]
    }
   ],
   "source": [
    "#Minimise the Objective Function\n",
    "\n",
    "# generate random integer values\n",
    "from numpy.random import seed\n",
    "# seed random number generator\n",
    "seed(1)\n",
    "\n",
    "# generate random parameters\n",
    "dim=20\n",
    "delta_floor=0.5\n",
    "delta_cap=1.5\n",
    "alpha_floor=0\n",
    "alpha_cap=1\n",
    "params_random=np.random.uniform([delta_floor,alpha_floor], [delta_cap,alpha_cap], [dim,2])\n",
    "\n",
    "optimization_results=[]\n",
    "n=1\n",
    "for i in params_random:\n",
    "    print(n)\n",
    "    params=np.array([i[0], i[1]])\n",
    "    startingVals=params\n",
    "    step1opt = fmin_bfgs(Q_2_v2, x0=startingVals, full_output=True, maxiter=1000)\n",
    "#     print(step1opt)\n",
    "    optimization_results.append(pd.Series([step1opt[0][0], step1opt[0][1], step1opt[1]]))\n",
    "    n+=1\n",
    "    print(\"delta={}, alpha={}\".format(step1opt[0][0], step1opt[0][1]))"
   ]
  },
  {
   "cell_type": "code",
   "execution_count": 175,
   "id": "cb6064b2",
   "metadata": {
    "ExecuteTime": {
     "end_time": "2022-06-07T20:18:22.778290Z",
     "start_time": "2022-06-07T20:18:22.763367Z"
    },
    "scrolled": false
   },
   "outputs": [
    {
     "data": {
      "text/html": [
       "<div>\n",
       "<style scoped>\n",
       "    .dataframe tbody tr th:only-of-type {\n",
       "        vertical-align: middle;\n",
       "    }\n",
       "\n",
       "    .dataframe tbody tr th {\n",
       "        vertical-align: top;\n",
       "    }\n",
       "\n",
       "    .dataframe thead th {\n",
       "        text-align: right;\n",
       "    }\n",
       "</style>\n",
       "<table border=\"1\" class=\"dataframe\">\n",
       "  <thead>\n",
       "    <tr style=\"text-align: right;\">\n",
       "      <th></th>\n",
       "      <th>delta</th>\n",
       "      <th>alpha</th>\n",
       "      <th>objective_func</th>\n",
       "    </tr>\n",
       "  </thead>\n",
       "  <tbody>\n",
       "    <tr>\n",
       "      <th>9</th>\n",
       "      <td>0.983458</td>\n",
       "      <td>0.974958</td>\n",
       "      <td>0.094219</td>\n",
       "    </tr>\n",
       "    <tr>\n",
       "      <th>4</th>\n",
       "      <td>0.983458</td>\n",
       "      <td>0.974958</td>\n",
       "      <td>0.094219</td>\n",
       "    </tr>\n",
       "    <tr>\n",
       "      <th>7</th>\n",
       "      <td>0.983458</td>\n",
       "      <td>0.974954</td>\n",
       "      <td>0.094219</td>\n",
       "    </tr>\n",
       "    <tr>\n",
       "      <th>12</th>\n",
       "      <td>0.983458</td>\n",
       "      <td>0.974956</td>\n",
       "      <td>0.094219</td>\n",
       "    </tr>\n",
       "    <tr>\n",
       "      <th>14</th>\n",
       "      <td>0.983458</td>\n",
       "      <td>0.974957</td>\n",
       "      <td>0.094219</td>\n",
       "    </tr>\n",
       "    <tr>\n",
       "      <th>1</th>\n",
       "      <td>0.983458</td>\n",
       "      <td>0.974953</td>\n",
       "      <td>0.094219</td>\n",
       "    </tr>\n",
       "    <tr>\n",
       "      <th>0</th>\n",
       "      <td>0.983458</td>\n",
       "      <td>0.974953</td>\n",
       "      <td>0.094219</td>\n",
       "    </tr>\n",
       "    <tr>\n",
       "      <th>19</th>\n",
       "      <td>0.983459</td>\n",
       "      <td>0.974961</td>\n",
       "      <td>0.094219</td>\n",
       "    </tr>\n",
       "    <tr>\n",
       "      <th>15</th>\n",
       "      <td>0.983459</td>\n",
       "      <td>0.974961</td>\n",
       "      <td>0.094219</td>\n",
       "    </tr>\n",
       "    <tr>\n",
       "      <th>3</th>\n",
       "      <td>0.983459</td>\n",
       "      <td>0.974963</td>\n",
       "      <td>0.094219</td>\n",
       "    </tr>\n",
       "    <tr>\n",
       "      <th>18</th>\n",
       "      <td>0.983459</td>\n",
       "      <td>0.974963</td>\n",
       "      <td>0.094219</td>\n",
       "    </tr>\n",
       "    <tr>\n",
       "      <th>16</th>\n",
       "      <td>0.983459</td>\n",
       "      <td>0.974964</td>\n",
       "      <td>0.094219</td>\n",
       "    </tr>\n",
       "    <tr>\n",
       "      <th>13</th>\n",
       "      <td>0.983459</td>\n",
       "      <td>0.974968</td>\n",
       "      <td>0.094219</td>\n",
       "    </tr>\n",
       "    <tr>\n",
       "      <th>5</th>\n",
       "      <td>0.983458</td>\n",
       "      <td>0.974945</td>\n",
       "      <td>0.094219</td>\n",
       "    </tr>\n",
       "    <tr>\n",
       "      <th>2</th>\n",
       "      <td>0.983459</td>\n",
       "      <td>0.974969</td>\n",
       "      <td>0.094219</td>\n",
       "    </tr>\n",
       "    <tr>\n",
       "      <th>8</th>\n",
       "      <td>0.983459</td>\n",
       "      <td>0.974976</td>\n",
       "      <td>0.094219</td>\n",
       "    </tr>\n",
       "    <tr>\n",
       "      <th>10</th>\n",
       "      <td>0.983458</td>\n",
       "      <td>0.974932</td>\n",
       "      <td>0.094219</td>\n",
       "    </tr>\n",
       "    <tr>\n",
       "      <th>6</th>\n",
       "      <td>0.983459</td>\n",
       "      <td>0.974982</td>\n",
       "      <td>0.094219</td>\n",
       "    </tr>\n",
       "    <tr>\n",
       "      <th>17</th>\n",
       "      <td>0.983459</td>\n",
       "      <td>0.974985</td>\n",
       "      <td>0.094219</td>\n",
       "    </tr>\n",
       "    <tr>\n",
       "      <th>11</th>\n",
       "      <td>0.983458</td>\n",
       "      <td>0.974922</td>\n",
       "      <td>0.094219</td>\n",
       "    </tr>\n",
       "  </tbody>\n",
       "</table>\n",
       "</div>"
      ],
      "text/plain": [
       "       delta     alpha  objective_func\n",
       "9   0.983458  0.974958        0.094219\n",
       "4   0.983458  0.974958        0.094219\n",
       "7   0.983458  0.974954        0.094219\n",
       "12  0.983458  0.974956        0.094219\n",
       "14  0.983458  0.974957        0.094219\n",
       "1   0.983458  0.974953        0.094219\n",
       "0   0.983458  0.974953        0.094219\n",
       "19  0.983459  0.974961        0.094219\n",
       "15  0.983459  0.974961        0.094219\n",
       "3   0.983459  0.974963        0.094219\n",
       "18  0.983459  0.974963        0.094219\n",
       "16  0.983459  0.974964        0.094219\n",
       "13  0.983459  0.974968        0.094219\n",
       "5   0.983458  0.974945        0.094219\n",
       "2   0.983459  0.974969        0.094219\n",
       "8   0.983459  0.974976        0.094219\n",
       "10  0.983458  0.974932        0.094219\n",
       "6   0.983459  0.974982        0.094219\n",
       "17  0.983459  0.974985        0.094219\n",
       "11  0.983458  0.974922        0.094219"
      ]
     },
     "execution_count": 175,
     "metadata": {},
     "output_type": "execute_result"
    }
   ],
   "source": [
    "optimization_results=pd.concat(optimization_results, axis=1).T.rename(columns={0:\"delta\", 1:\"alpha\", 2:\"objective_func\"}).sort_values(by=\"objective_func\", ascending=True)\n",
    "\n",
    "optimization_results.sort_values(by=\"objective_func\", ascending=True)"
   ]
  },
  {
   "cell_type": "code",
   "execution_count": 176,
   "id": "2ecc134a",
   "metadata": {
    "ExecuteTime": {
     "end_time": "2022-06-07T20:18:25.802413Z",
     "start_time": "2022-06-07T20:18:25.796472Z"
    }
   },
   "outputs": [
    {
     "data": {
      "text/plain": [
       "array([0.9834585 , 0.97495812])"
      ]
     },
     "execution_count": 176,
     "metadata": {},
     "output_type": "execute_result"
    }
   ],
   "source": [
    "\n",
    "Theta_hat_2=np.array(optimization_results.iloc[0,[0,1]])\n",
    "Theta_hat_2\n"
   ]
  },
  {
   "cell_type": "code",
   "execution_count": 458,
   "id": "0cae8eba",
   "metadata": {
    "ExecuteTime": {
     "end_time": "2022-06-05T13:55:16.846097Z",
     "start_time": "2022-06-05T13:55:16.842112Z"
    }
   },
   "outputs": [],
   "source": [
    "##Covariance Matrix of Theta\n",
    "\n"
   ]
  },
  {
   "cell_type": "code",
   "execution_count": 99,
   "id": "76f5746c",
   "metadata": {
    "ExecuteTime": {
     "end_time": "2022-06-07T18:15:10.894179Z",
     "start_time": "2022-06-07T18:15:10.610261Z"
    },
    "scrolled": true
   },
   "outputs": [
    {
     "data": {
      "text/plain": [
       "array([[ 0.91447976,  0.96240646,  0.93328649,  0.98154491,  0.93486464,\n",
       "         0.98439126,  0.95783171,  1.01029344,  0.93270092,  0.98169308,\n",
       "         0.93291103,  0.98082751,  0.98281377,  1.02773029,  0.93439003,\n",
       "         0.9833923 ,  0.93371041,  0.98181663,  0.99033174,  1.04281132,\n",
       "         0.93335266,  0.98204478,  0.93387757,  0.98324729,  0.99470674,\n",
       "         1.04386748,  0.93356771,  0.98277782,  0.93304353,  0.98267311,\n",
       "         0.98935477,  1.03738712,  0.93321416,  0.98228712,  0.93037834,\n",
       "         0.97838601,  0.98764011,  1.04093212],\n",
       "       [-0.00959581, -0.01074392, -0.00989449, -0.01105896, -0.00934519,\n",
       "        -0.01054118, -0.01402349, -0.01532838, -0.00991731, -0.01104045,\n",
       "        -0.00960194, -0.0107945 , -0.01095877, -0.01231363, -0.00966058,\n",
       "        -0.01079895, -0.00949068, -0.01066991, -0.00949881, -0.01087609,\n",
       "        -0.00985229, -0.0110261 , -0.00941675, -0.0106316 , -0.0087024 ,\n",
       "        -0.00990127, -0.00981516, -0.0109508 , -0.00957392, -0.01070778,\n",
       "        -0.00969286, -0.01095143, -0.00980047, -0.01098894, -0.00991106,\n",
       "        -0.01114153, -0.01004267, -0.01127826]])"
      ]
     },
     "execution_count": 99,
     "metadata": {},
     "output_type": "execute_result"
    }
   ],
   "source": [
    "# Matrix Jacobian of g_T , computed numerically by incrementing marginally the estimators by Incr\n",
    "Incr=0.01\n",
    "Theta_d1=array((Theta_hat_2[0]+Incr,Theta_hat_2[1]))\n",
    "Theta_d2=array((Theta_hat_2[0],Theta_hat_2[1]+Incr))\n",
    "DT_1=(g_T_v2(Theta_d1,l)-g_T_v2(Theta_hat_2,l))/Incr\n",
    "DT_2=(g_T_v2(Theta_d2,l)-g_T_v2(Theta_hat_2,l))/Incr\n",
    "DT=np.vstack((DT_1,DT_2))\n",
    "DT\n"
   ]
  },
  {
   "cell_type": "code",
   "execution_count": 476,
   "id": "d81bae82",
   "metadata": {
    "ExecuteTime": {
     "end_time": "2022-06-05T15:10:47.002445Z",
     "start_time": "2022-06-05T15:10:46.995463Z"
    }
   },
   "outputs": [],
   "source": [
    "#Variance Covariance Matrix of the Estimators"
   ]
  },
  {
   "cell_type": "code",
   "execution_count": 100,
   "id": "751a5ef1",
   "metadata": {
    "ExecuteTime": {
     "end_time": "2022-06-07T18:15:13.640396Z",
     "start_time": "2022-06-07T18:15:13.635409Z"
    }
   },
   "outputs": [
    {
     "data": {
      "text/plain": [
       "array([[5.18688069e-04, 1.58825018e-02],\n",
       "       [1.58825018e-02, 9.06828739e-01]])"
      ]
     },
     "execution_count": 100,
     "metadata": {},
     "output_type": "execute_result"
    }
   ],
   "source": [
    "(np.linalg.inv((DT).dot(np.linalg.inv(NW)).dot(DT.T)))/T"
   ]
  },
  {
   "cell_type": "code",
   "execution_count": null,
   "id": "bb805abc",
   "metadata": {},
   "outputs": [],
   "source": []
  },
  {
   "cell_type": "code",
   "execution_count": null,
   "id": "5cb91b87",
   "metadata": {},
   "outputs": [],
   "source": []
  },
  {
   "cell_type": "code",
   "execution_count": null,
   "id": "c330908a",
   "metadata": {},
   "outputs": [],
   "source": []
  },
  {
   "cell_type": "code",
   "execution_count": null,
   "id": "2ed238c9",
   "metadata": {},
   "outputs": [],
   "source": []
  },
  {
   "cell_type": "code",
   "execution_count": null,
   "id": "4c124040",
   "metadata": {},
   "outputs": [],
   "source": []
  }
 ],
 "metadata": {
  "hide_input": false,
  "kernelspec": {
   "display_name": "Python 3 (ipykernel)",
   "language": "python",
   "name": "python3"
  },
  "language_info": {
   "codemirror_mode": {
    "name": "ipython",
    "version": 3
   },
   "file_extension": ".py",
   "mimetype": "text/x-python",
   "name": "python",
   "nbconvert_exporter": "python",
   "pygments_lexer": "ipython3",
   "version": "3.10.11"
  },
  "toc": {
   "base_numbering": 1,
   "nav_menu": {},
   "number_sections": true,
   "sideBar": true,
   "skip_h1_title": false,
   "title_cell": "Table of Contents",
   "title_sidebar": "Contents",
   "toc_cell": false,
   "toc_position": {},
   "toc_section_display": true,
   "toc_window_display": false
  },
  "varInspector": {
   "cols": {
    "lenName": 16,
    "lenType": 16,
    "lenVar": 40
   },
   "kernels_config": {
    "python": {
     "delete_cmd_postfix": "",
     "delete_cmd_prefix": "del ",
     "library": "var_list.py",
     "varRefreshCmd": "print(var_dic_list())"
    },
    "r": {
     "delete_cmd_postfix": ") ",
     "delete_cmd_prefix": "rm(",
     "library": "var_list.r",
     "varRefreshCmd": "cat(var_dic_list()) "
    }
   },
   "types_to_exclude": [
    "module",
    "function",
    "builtin_function_or_method",
    "instance",
    "_Feature"
   ],
   "window_display": false
  }
 },
 "nbformat": 4,
 "nbformat_minor": 5
}
